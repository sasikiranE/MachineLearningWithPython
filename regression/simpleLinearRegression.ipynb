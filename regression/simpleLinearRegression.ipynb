{
 "cells": [
  {
   "cell_type": "markdown",
   "id": "8551b8ac",
   "metadata": {},
   "source": [
    "# Simple Linear Regression"
   ]
  },
  {
   "cell_type": "code",
   "execution_count": 1,
   "id": "4c4e0503",
   "metadata": {},
   "outputs": [],
   "source": [
    "import numpy as np\n",
    "import pandas as pd\n",
    "import matplotlib.pyplot as plt\n",
    "%matplotlib inline"
   ]
  },
  {
   "cell_type": "code",
   "execution_count": 2,
   "id": "3c5afa91",
   "metadata": {},
   "outputs": [
    {
     "name": "stdout",
     "output_type": "stream",
     "text": [
      "--2022-01-24 19:32:32--  https://cf-courses-data.s3.us.cloud-object-storage.appdomain.cloud/IBMDeveloperSkillsNetwork-ML0101EN-SkillsNetwork/labs/Module%202/data/FuelConsumptionCo2.csv\n",
      "Resolving cf-courses-data.s3.us.cloud-object-storage.appdomain.cloud (cf-courses-data.s3.us.cloud-object-storage.appdomain.cloud)... 169.45.118.108\n",
      "Connecting to cf-courses-data.s3.us.cloud-object-storage.appdomain.cloud (cf-courses-data.s3.us.cloud-object-storage.appdomain.cloud)|169.45.118.108|:443... connected.\n",
      "HTTP request sent, awaiting response... 200 OK\n",
      "Length: 72629 (71K) [text/csv]\n",
      "Saving to: ‘FuelConsumption.csv’\n",
      "\n",
      "FuelConsumption.csv 100%[===================>]  70.93K   115KB/s    in 0.6s    \n",
      "\n",
      "2022-01-24 19:32:36 (115 KB/s) - ‘FuelConsumption.csv’ saved [72629/72629]\n",
      "\n"
     ]
    }
   ],
   "source": [
    "# downloading the data.\n",
    "!wget -O FuelConsumption.csv https://cf-courses-data.s3.us.cloud-object-storage.appdomain.cloud/IBMDeveloperSkillsNetwork-ML0101EN-SkillsNetwork/labs/Module%202/data/FuelConsumptionCo2.csv"
   ]
  },
  {
   "cell_type": "code",
   "execution_count": 3,
   "id": "2c56904b",
   "metadata": {},
   "outputs": [
    {
     "data": {
      "text/html": [
       "<div>\n",
       "<style scoped>\n",
       "    .dataframe tbody tr th:only-of-type {\n",
       "        vertical-align: middle;\n",
       "    }\n",
       "\n",
       "    .dataframe tbody tr th {\n",
       "        vertical-align: top;\n",
       "    }\n",
       "\n",
       "    .dataframe thead th {\n",
       "        text-align: right;\n",
       "    }\n",
       "</style>\n",
       "<table border=\"1\" class=\"dataframe\">\n",
       "  <thead>\n",
       "    <tr style=\"text-align: right;\">\n",
       "      <th></th>\n",
       "      <th>MODELYEAR</th>\n",
       "      <th>MAKE</th>\n",
       "      <th>MODEL</th>\n",
       "      <th>VEHICLECLASS</th>\n",
       "      <th>ENGINESIZE</th>\n",
       "      <th>CYLINDERS</th>\n",
       "      <th>TRANSMISSION</th>\n",
       "      <th>FUELTYPE</th>\n",
       "      <th>FUELCONSUMPTION_CITY</th>\n",
       "      <th>FUELCONSUMPTION_HWY</th>\n",
       "      <th>FUELCONSUMPTION_COMB</th>\n",
       "      <th>FUELCONSUMPTION_COMB_MPG</th>\n",
       "      <th>CO2EMISSIONS</th>\n",
       "    </tr>\n",
       "  </thead>\n",
       "  <tbody>\n",
       "    <tr>\n",
       "      <th>0</th>\n",
       "      <td>2014</td>\n",
       "      <td>ACURA</td>\n",
       "      <td>ILX</td>\n",
       "      <td>COMPACT</td>\n",
       "      <td>2.0</td>\n",
       "      <td>4</td>\n",
       "      <td>AS5</td>\n",
       "      <td>Z</td>\n",
       "      <td>9.9</td>\n",
       "      <td>6.7</td>\n",
       "      <td>8.5</td>\n",
       "      <td>33</td>\n",
       "      <td>196</td>\n",
       "    </tr>\n",
       "    <tr>\n",
       "      <th>1</th>\n",
       "      <td>2014</td>\n",
       "      <td>ACURA</td>\n",
       "      <td>ILX</td>\n",
       "      <td>COMPACT</td>\n",
       "      <td>2.4</td>\n",
       "      <td>4</td>\n",
       "      <td>M6</td>\n",
       "      <td>Z</td>\n",
       "      <td>11.2</td>\n",
       "      <td>7.7</td>\n",
       "      <td>9.6</td>\n",
       "      <td>29</td>\n",
       "      <td>221</td>\n",
       "    </tr>\n",
       "    <tr>\n",
       "      <th>2</th>\n",
       "      <td>2014</td>\n",
       "      <td>ACURA</td>\n",
       "      <td>ILX HYBRID</td>\n",
       "      <td>COMPACT</td>\n",
       "      <td>1.5</td>\n",
       "      <td>4</td>\n",
       "      <td>AV7</td>\n",
       "      <td>Z</td>\n",
       "      <td>6.0</td>\n",
       "      <td>5.8</td>\n",
       "      <td>5.9</td>\n",
       "      <td>48</td>\n",
       "      <td>136</td>\n",
       "    </tr>\n",
       "    <tr>\n",
       "      <th>3</th>\n",
       "      <td>2014</td>\n",
       "      <td>ACURA</td>\n",
       "      <td>MDX 4WD</td>\n",
       "      <td>SUV - SMALL</td>\n",
       "      <td>3.5</td>\n",
       "      <td>6</td>\n",
       "      <td>AS6</td>\n",
       "      <td>Z</td>\n",
       "      <td>12.7</td>\n",
       "      <td>9.1</td>\n",
       "      <td>11.1</td>\n",
       "      <td>25</td>\n",
       "      <td>255</td>\n",
       "    </tr>\n",
       "    <tr>\n",
       "      <th>4</th>\n",
       "      <td>2014</td>\n",
       "      <td>ACURA</td>\n",
       "      <td>RDX AWD</td>\n",
       "      <td>SUV - SMALL</td>\n",
       "      <td>3.5</td>\n",
       "      <td>6</td>\n",
       "      <td>AS6</td>\n",
       "      <td>Z</td>\n",
       "      <td>12.1</td>\n",
       "      <td>8.7</td>\n",
       "      <td>10.6</td>\n",
       "      <td>27</td>\n",
       "      <td>244</td>\n",
       "    </tr>\n",
       "  </tbody>\n",
       "</table>\n",
       "</div>"
      ],
      "text/plain": [
       "   MODELYEAR   MAKE       MODEL VEHICLECLASS  ENGINESIZE  CYLINDERS  \\\n",
       "0       2014  ACURA         ILX      COMPACT         2.0          4   \n",
       "1       2014  ACURA         ILX      COMPACT         2.4          4   \n",
       "2       2014  ACURA  ILX HYBRID      COMPACT         1.5          4   \n",
       "3       2014  ACURA     MDX 4WD  SUV - SMALL         3.5          6   \n",
       "4       2014  ACURA     RDX AWD  SUV - SMALL         3.5          6   \n",
       "\n",
       "  TRANSMISSION FUELTYPE  FUELCONSUMPTION_CITY  FUELCONSUMPTION_HWY  \\\n",
       "0          AS5        Z                   9.9                  6.7   \n",
       "1           M6        Z                  11.2                  7.7   \n",
       "2          AV7        Z                   6.0                  5.8   \n",
       "3          AS6        Z                  12.7                  9.1   \n",
       "4          AS6        Z                  12.1                  8.7   \n",
       "\n",
       "   FUELCONSUMPTION_COMB  FUELCONSUMPTION_COMB_MPG  CO2EMISSIONS  \n",
       "0                   8.5                        33           196  \n",
       "1                   9.6                        29           221  \n",
       "2                   5.9                        48           136  \n",
       "3                  11.1                        25           255  \n",
       "4                  10.6                        27           244  "
      ]
     },
     "execution_count": 3,
     "metadata": {},
     "output_type": "execute_result"
    }
   ],
   "source": [
    "df = pd.read_csv('data/FuelConsumption.csv')\n",
    "df.head()"
   ]
  },
  {
   "cell_type": "code",
   "execution_count": 4,
   "id": "94afff29",
   "metadata": {},
   "outputs": [
    {
     "data": {
      "text/html": [
       "<div>\n",
       "<style scoped>\n",
       "    .dataframe tbody tr th:only-of-type {\n",
       "        vertical-align: middle;\n",
       "    }\n",
       "\n",
       "    .dataframe tbody tr th {\n",
       "        vertical-align: top;\n",
       "    }\n",
       "\n",
       "    .dataframe thead th {\n",
       "        text-align: right;\n",
       "    }\n",
       "</style>\n",
       "<table border=\"1\" class=\"dataframe\">\n",
       "  <thead>\n",
       "    <tr style=\"text-align: right;\">\n",
       "      <th></th>\n",
       "      <th>MODELYEAR</th>\n",
       "      <th>ENGINESIZE</th>\n",
       "      <th>CYLINDERS</th>\n",
       "      <th>FUELCONSUMPTION_CITY</th>\n",
       "      <th>FUELCONSUMPTION_HWY</th>\n",
       "      <th>FUELCONSUMPTION_COMB</th>\n",
       "      <th>FUELCONSUMPTION_COMB_MPG</th>\n",
       "      <th>CO2EMISSIONS</th>\n",
       "    </tr>\n",
       "  </thead>\n",
       "  <tbody>\n",
       "    <tr>\n",
       "      <th>count</th>\n",
       "      <td>1067.0</td>\n",
       "      <td>1067.000000</td>\n",
       "      <td>1067.000000</td>\n",
       "      <td>1067.000000</td>\n",
       "      <td>1067.000000</td>\n",
       "      <td>1067.000000</td>\n",
       "      <td>1067.000000</td>\n",
       "      <td>1067.000000</td>\n",
       "    </tr>\n",
       "    <tr>\n",
       "      <th>mean</th>\n",
       "      <td>2014.0</td>\n",
       "      <td>3.346298</td>\n",
       "      <td>5.794752</td>\n",
       "      <td>13.296532</td>\n",
       "      <td>9.474602</td>\n",
       "      <td>11.580881</td>\n",
       "      <td>26.441425</td>\n",
       "      <td>256.228679</td>\n",
       "    </tr>\n",
       "    <tr>\n",
       "      <th>std</th>\n",
       "      <td>0.0</td>\n",
       "      <td>1.415895</td>\n",
       "      <td>1.797447</td>\n",
       "      <td>4.101253</td>\n",
       "      <td>2.794510</td>\n",
       "      <td>3.485595</td>\n",
       "      <td>7.468702</td>\n",
       "      <td>63.372304</td>\n",
       "    </tr>\n",
       "    <tr>\n",
       "      <th>min</th>\n",
       "      <td>2014.0</td>\n",
       "      <td>1.000000</td>\n",
       "      <td>3.000000</td>\n",
       "      <td>4.600000</td>\n",
       "      <td>4.900000</td>\n",
       "      <td>4.700000</td>\n",
       "      <td>11.000000</td>\n",
       "      <td>108.000000</td>\n",
       "    </tr>\n",
       "    <tr>\n",
       "      <th>25%</th>\n",
       "      <td>2014.0</td>\n",
       "      <td>2.000000</td>\n",
       "      <td>4.000000</td>\n",
       "      <td>10.250000</td>\n",
       "      <td>7.500000</td>\n",
       "      <td>9.000000</td>\n",
       "      <td>21.000000</td>\n",
       "      <td>207.000000</td>\n",
       "    </tr>\n",
       "    <tr>\n",
       "      <th>50%</th>\n",
       "      <td>2014.0</td>\n",
       "      <td>3.400000</td>\n",
       "      <td>6.000000</td>\n",
       "      <td>12.600000</td>\n",
       "      <td>8.800000</td>\n",
       "      <td>10.900000</td>\n",
       "      <td>26.000000</td>\n",
       "      <td>251.000000</td>\n",
       "    </tr>\n",
       "    <tr>\n",
       "      <th>75%</th>\n",
       "      <td>2014.0</td>\n",
       "      <td>4.300000</td>\n",
       "      <td>8.000000</td>\n",
       "      <td>15.550000</td>\n",
       "      <td>10.850000</td>\n",
       "      <td>13.350000</td>\n",
       "      <td>31.000000</td>\n",
       "      <td>294.000000</td>\n",
       "    </tr>\n",
       "    <tr>\n",
       "      <th>max</th>\n",
       "      <td>2014.0</td>\n",
       "      <td>8.400000</td>\n",
       "      <td>12.000000</td>\n",
       "      <td>30.200000</td>\n",
       "      <td>20.500000</td>\n",
       "      <td>25.800000</td>\n",
       "      <td>60.000000</td>\n",
       "      <td>488.000000</td>\n",
       "    </tr>\n",
       "  </tbody>\n",
       "</table>\n",
       "</div>"
      ],
      "text/plain": [
       "       MODELYEAR   ENGINESIZE    CYLINDERS  FUELCONSUMPTION_CITY  \\\n",
       "count     1067.0  1067.000000  1067.000000           1067.000000   \n",
       "mean      2014.0     3.346298     5.794752             13.296532   \n",
       "std          0.0     1.415895     1.797447              4.101253   \n",
       "min       2014.0     1.000000     3.000000              4.600000   \n",
       "25%       2014.0     2.000000     4.000000             10.250000   \n",
       "50%       2014.0     3.400000     6.000000             12.600000   \n",
       "75%       2014.0     4.300000     8.000000             15.550000   \n",
       "max       2014.0     8.400000    12.000000             30.200000   \n",
       "\n",
       "       FUELCONSUMPTION_HWY  FUELCONSUMPTION_COMB  FUELCONSUMPTION_COMB_MPG  \\\n",
       "count          1067.000000           1067.000000               1067.000000   \n",
       "mean              9.474602             11.580881                 26.441425   \n",
       "std               2.794510              3.485595                  7.468702   \n",
       "min               4.900000              4.700000                 11.000000   \n",
       "25%               7.500000              9.000000                 21.000000   \n",
       "50%               8.800000             10.900000                 26.000000   \n",
       "75%              10.850000             13.350000                 31.000000   \n",
       "max              20.500000             25.800000                 60.000000   \n",
       "\n",
       "       CO2EMISSIONS  \n",
       "count   1067.000000  \n",
       "mean     256.228679  \n",
       "std       63.372304  \n",
       "min      108.000000  \n",
       "25%      207.000000  \n",
       "50%      251.000000  \n",
       "75%      294.000000  \n",
       "max      488.000000  "
      ]
     },
     "execution_count": 4,
     "metadata": {},
     "output_type": "execute_result"
    }
   ],
   "source": [
    "df.describe()"
   ]
  },
  {
   "cell_type": "code",
   "execution_count": 5,
   "id": "647076b3",
   "metadata": {},
   "outputs": [],
   "source": [
    "features = ['ENGINESIZE', 'CYLINDERS', 'FUELCONSUMPTION_COMB', 'CO2EMISSIONS']\n",
    "new_df = df[features]"
   ]
  },
  {
   "cell_type": "code",
   "execution_count": 6,
   "id": "4b455de5",
   "metadata": {},
   "outputs": [
    {
     "data": {
      "text/html": [
       "<div>\n",
       "<style scoped>\n",
       "    .dataframe tbody tr th:only-of-type {\n",
       "        vertical-align: middle;\n",
       "    }\n",
       "\n",
       "    .dataframe tbody tr th {\n",
       "        vertical-align: top;\n",
       "    }\n",
       "\n",
       "    .dataframe thead th {\n",
       "        text-align: right;\n",
       "    }\n",
       "</style>\n",
       "<table border=\"1\" class=\"dataframe\">\n",
       "  <thead>\n",
       "    <tr style=\"text-align: right;\">\n",
       "      <th></th>\n",
       "      <th>ENGINESIZE</th>\n",
       "      <th>CYLINDERS</th>\n",
       "      <th>FUELCONSUMPTION_COMB</th>\n",
       "      <th>CO2EMISSIONS</th>\n",
       "    </tr>\n",
       "  </thead>\n",
       "  <tbody>\n",
       "    <tr>\n",
       "      <th>0</th>\n",
       "      <td>2.0</td>\n",
       "      <td>4</td>\n",
       "      <td>8.5</td>\n",
       "      <td>196</td>\n",
       "    </tr>\n",
       "    <tr>\n",
       "      <th>1</th>\n",
       "      <td>2.4</td>\n",
       "      <td>4</td>\n",
       "      <td>9.6</td>\n",
       "      <td>221</td>\n",
       "    </tr>\n",
       "    <tr>\n",
       "      <th>2</th>\n",
       "      <td>1.5</td>\n",
       "      <td>4</td>\n",
       "      <td>5.9</td>\n",
       "      <td>136</td>\n",
       "    </tr>\n",
       "    <tr>\n",
       "      <th>3</th>\n",
       "      <td>3.5</td>\n",
       "      <td>6</td>\n",
       "      <td>11.1</td>\n",
       "      <td>255</td>\n",
       "    </tr>\n",
       "    <tr>\n",
       "      <th>4</th>\n",
       "      <td>3.5</td>\n",
       "      <td>6</td>\n",
       "      <td>10.6</td>\n",
       "      <td>244</td>\n",
       "    </tr>\n",
       "  </tbody>\n",
       "</table>\n",
       "</div>"
      ],
      "text/plain": [
       "   ENGINESIZE  CYLINDERS  FUELCONSUMPTION_COMB  CO2EMISSIONS\n",
       "0         2.0          4                   8.5           196\n",
       "1         2.4          4                   9.6           221\n",
       "2         1.5          4                   5.9           136\n",
       "3         3.5          6                  11.1           255\n",
       "4         3.5          6                  10.6           244"
      ]
     },
     "execution_count": 6,
     "metadata": {},
     "output_type": "execute_result"
    }
   ],
   "source": [
    "new_df.head()"
   ]
  },
  {
   "cell_type": "code",
   "execution_count": 7,
   "id": "55eb6781",
   "metadata": {},
   "outputs": [
    {
     "data": {
      "image/png": "[encoded data removed]",
      "text/plain": [
       "<Figure size 432x288 with 4 Axes>"
      ]
     },
     "metadata": {
      "needs_background": "light"
     },
     "output_type": "display_data"
    }
   ],
   "source": [
    "new_df.hist()\n",
    "plt.show()"
   ]
  },
  {
   "cell_type": "code",
   "execution_count": 8,
   "id": "9f199d31",
   "metadata": {},
   "outputs": [
    {
     "data": {
      "image/png": "[encoded data removed]",
      "text/plain": [
       "<Figure size 432x288 with 1 Axes>"
      ]
     },
     "metadata": {
      "needs_background": "light"
     },
     "output_type": "display_data"
    }
   ],
   "source": [
    "# scatter plot of engine size vs co2 emissions.\n",
    "plt.scatter(new_df['ENGINESIZE'], new_df['CO2EMISSIONS'])\n",
    "plt.xlabel('Engine size')\n",
    "plt.ylabel('CO2 Emission')\n",
    "plt.title('Engine size Vs CO2 Emissions')\n",
    "plt.show()"
   ]
  },
  {
   "cell_type": "code",
   "execution_count": 9,
   "id": "cf8f9faf",
   "metadata": {},
   "outputs": [
    {
     "data": {
      "image/png": "[encoded data removed]",
      "text/plain": [
       "<Figure size 432x288 with 1 Axes>"
      ]
     },
     "metadata": {
      "needs_background": "light"
     },
     "output_type": "display_data"
    }
   ],
   "source": [
    "# scatter plot of no of cylinders vs co2 emissions.\n",
    "plt.scatter(new_df['CYLINDERS'], new_df['CO2EMISSIONS'], color='red')\n",
    "plt.xlabel('No of Cylinders')\n",
    "plt.ylabel('CO2 Emission')\n",
    "plt.title('No of cylinders Vs CO2 Emissions')\n",
    "plt.show()"
   ]
  },
  {
   "cell_type": "code",
   "execution_count": 10,
   "id": "30ebd9ea",
   "metadata": {},
   "outputs": [
    {
     "data": {
      "image/png": "[encoded data removed]",
      "text/plain": [
       "<Figure size 432x288 with 1 Axes>"
      ]
     },
     "metadata": {
      "needs_background": "light"
     },
     "output_type": "display_data"
    }
   ],
   "source": [
    "# scatter plot of Fuel Consumption vs co2 emissions.\n",
    "plt.scatter(new_df['FUELCONSUMPTION_COMB'], new_df['CO2EMISSIONS'])\n",
    "plt.xlabel('Fuel Consumption')\n",
    "plt.ylabel('CO2 Emission')\n",
    "plt.title('Fuel Consumption Vs CO2 Emissions')\n",
    "plt.show()"
   ]
  },
  {
   "cell_type": "code",
   "execution_count": 11,
   "id": "5142b6f4",
   "metadata": {},
   "outputs": [],
   "source": [
    "# splitting the data set into 80% for training and 20% for testing.\n",
    "mask = np.random.rand(len(new_df)) < 0.8\n",
    "train = new_df[mask]\n",
    "test = new_df[~mask]"
   ]
  },
  {
   "cell_type": "code",
   "execution_count": 12,
   "id": "1ef22aa7",
   "metadata": {},
   "outputs": [
    {
     "data": {
      "text/plain": [
       "(831, 4)"
      ]
     },
     "execution_count": 12,
     "metadata": {},
     "output_type": "execute_result"
    }
   ],
   "source": [
    "train.shape"
   ]
  },
  {
   "cell_type": "code",
   "execution_count": 13,
   "id": "1a45d7a6",
   "metadata": {},
   "outputs": [
    {
     "data": {
      "text/plain": [
       "(236, 4)"
      ]
     },
     "execution_count": 13,
     "metadata": {},
     "output_type": "execute_result"
    }
   ],
   "source": [
    "test.shape"
   ]
  },
  {
   "cell_type": "code",
   "execution_count": 14,
   "id": "c17724a9",
   "metadata": {},
   "outputs": [
    {
     "data": {
      "image/png": "[encoded data removed]",
      "text/plain": [
       "<Figure size 432x288 with 1 Axes>"
      ]
     },
     "metadata": {
      "needs_background": "light"
     },
     "output_type": "display_data"
    }
   ],
   "source": [
    "# training data distribution. (fuel consumption vs Emissions)\n",
    "plt.scatter(new_df['FUELCONSUMPTION_COMB'], new_df['CO2EMISSIONS'], color='magenta')\n",
    "plt.xlabel('Fuel consumption')\n",
    "plt.ylabel('CO2 Emissions')\n",
    "plt.title('Fuel consumption vs Emissions')\n",
    "plt.show()"
   ]
  },
  {
   "cell_type": "code",
   "execution_count": 15,
   "id": "47ff8809",
   "metadata": {},
   "outputs": [
    {
     "data": {
      "image/png": "[encoded data removed]",
      "text/plain": [
       "<Figure size 432x288 with 1 Axes>"
      ]
     },
     "metadata": {
      "needs_background": "light"
     },
     "output_type": "display_data"
    }
   ],
   "source": [
    "# training data distribution. (Engine size vs Emissions)\n",
    "plt.scatter(new_df['ENGINESIZE'], new_df['CO2EMISSIONS'], color='brown')\n",
    "plt.xlabel('Engine size')\n",
    "plt.ylabel('CO2 Emissions')\n",
    "plt.title('Engine size vs Emissions')\n",
    "plt.show()"
   ]
  },
  {
   "cell_type": "code",
   "execution_count": 16,
   "id": "a3938dea",
   "metadata": {},
   "outputs": [
    {
     "data": {
      "text/plain": [
       "LinearRegression()"
      ]
     },
     "execution_count": 16,
     "metadata": {},
     "output_type": "execute_result"
    }
   ],
   "source": [
    "from sklearn import linear_model\n",
    "regr = linear_model.LinearRegression()\n",
    "train_x = np.asanyarray(train[['ENGINESIZE']])\n",
    "train_y = np.asanyarray(train[['CO2EMISSIONS']])\n",
    "\n",
    "# fitting training set into the model.\n",
    "regr.fit(train_x, train_y)"
   ]
  },
  {
   "cell_type": "code",
   "execution_count": 17,
   "id": "3e140867",
   "metadata": {},
   "outputs": [
    {
     "name": "stdout",
     "output_type": "stream",
     "text": [
      "coefficients :  [[39.08647754]]\n",
      "intercept :  [125.1008007]\n"
     ]
    }
   ],
   "source": [
    "# getting the hypotheses.\n",
    "\n",
    "print(\"coefficients : \", regr.coef_)\n",
    "\n",
    "print(\"intercept : \", regr.intercept_)"
   ]
  },
  {
   "cell_type": "code",
   "execution_count": 18,
   "id": "7b130a0e",
   "metadata": {},
   "outputs": [
    {
     "name": "stdout",
     "output_type": "stream",
     "text": [
      "H(X) = 125.10080069863952 + 39.08647754479142 * X\n",
      "CO2EMISSIONS = 125.10080069863952 + 39.08647754479142 * ENGINESIZE\n"
     ]
    }
   ],
   "source": [
    "# so our hypotheses is \n",
    "print(f\"H(X) = {regr.intercept_[0]} + {regr.coef_[0][0]} * X\")\n",
    "\n",
    "# so \n",
    "print(f\"CO2EMISSIONS = {regr.intercept_[0]} + {regr.coef_[0][0]} * ENGINESIZE\")"
   ]
  },
  {
   "cell_type": "code",
   "execution_count": 19,
   "id": "b59d05c7",
   "metadata": {},
   "outputs": [
    {
     "data": {
      "image/png": "[encoded data removed]",
      "text/plain": [
       "<Figure size 432x288 with 1 Axes>"
      ]
     },
     "metadata": {
      "needs_background": "light"
     },
     "output_type": "display_data"
    }
   ],
   "source": [
    "# plotting the fit line over the data.\n",
    "plt.scatter(train['ENGINESIZE'], train['CO2EMISSIONS'], color='yellow')\n",
    "# plotting the hypothesis (straight line in this case.)\n",
    "plt.plot(train_x, regr.intercept_[0] + regr.coef_[0][0] * train_x, color='brown')\n",
    "plt.xlabel('Engine Size')\n",
    "plt.ylabel('CO2 Emissions')\n",
    "plt.show()"
   ]
  },
  {
   "cell_type": "code",
   "execution_count": 20,
   "id": "ee913cab",
   "metadata": {},
   "outputs": [
    {
     "name": "stdout",
     "output_type": "stream",
     "text": [
      "Actual values : \n",
      " [136 239 230 230 214 288 258 336 336 407 354 285 281 297 209 437 181 181\n",
      " 221 230 193 246 292 292 338 209 255 274 290 225 228 221 235 251 248 253\n",
      " 262 340 340 338 294 340 276 192 290 272 347 344 380 362 435 221 235 269\n",
      " 277 173 182 182 159 317 317 317 294 193 232 242 222 320 198 168 168 255\n",
      " 259 182 156 396 225 221 230 346 235 402 283 283 336 315 308 184 294 179\n",
      " 184 216 126 244 229 228 283 366 380 432 269 292 270 285 276 259 290 354\n",
      " 317 186 209 110 265 198 267 264 145 232 265 255 267 267 294 281 285 306\n",
      " 301 248 225 209 225 235 278 250 225 225 294 184 193 216 200 175 276 253\n",
      " 271 209 260 361 334 345 239 253 223 283 260 235 207 352 334 301 186 168\n",
      " 235 216 216 242 352 304 212 301 242 235 267 297 407 350 278 356 292 380\n",
      " 361 175 179 196 184 196 191 207 147 269 283 186 253 179 359 327 248 251\n",
      " 274 212 225 320 251 286 393 193 218 184 221 196 258 198 228 269 301 196\n",
      " 221 189 170 191 110 126 384 310 373 163 221 200 232 197 283 248 223 271\n",
      " 271 260]\n",
      "\n",
      "Model predictions: \n",
      " [183.73051702 261.90347211 203.27375579 203.27375579 203.27375579\n",
      " 281.44671088 242.36023333 289.26400639 289.26400639 289.26400639\n",
      " 328.35048393 242.36023333 281.44671088 281.44671088 203.27375579\n",
      " 390.888848   203.27375579 203.27375579 242.36023333 242.36023333\n",
      " 203.27375579 242.36023333 297.0813019  297.0813019  297.0813019\n",
      " 203.27375579 242.36023333 242.36023333 265.81211986 203.27375579\n",
      " 203.27375579 203.27375579 203.27375579 265.81211986 265.81211986\n",
      " 242.36023333 265.81211986 367.43696148 367.43696148 367.43696148\n",
      " 367.43696148 367.43696148 367.43696148 203.27375579 265.81211986\n",
      " 265.81211986 293.17265414 332.25913169 332.25913169 332.25913169\n",
      " 359.61966597 222.81699456 218.90834681 293.17265414 332.25913169\n",
      " 179.82186926 195.45646028 179.82186926 172.00457375 332.25913169\n",
      " 332.25913169 332.25913169 332.25913169 179.82186926 218.90834681\n",
      " 265.81211986 265.81211986 375.25425699 218.90834681 179.82186926\n",
      " 179.82186926 218.90834681 265.81211986 179.82186926 179.82186926\n",
      " 336.16777944 203.27375579 203.27375579 203.27375579 336.16777944\n",
      " 203.27375579 367.43696148 269.72076761 269.72076761 320.53318842\n",
      " 320.53318842 269.72076761 187.63916477 261.90347211 203.27375579\n",
      " 203.27375579 203.27375579 203.27375579 269.72076761 261.90347211\n",
      " 222.81699456 265.81211986 332.25913169 332.25913169 359.61966597\n",
      " 293.17265414 332.25913169 332.25913169 293.17265414 265.81211986\n",
      " 265.81211986 265.81211986 367.43696148 332.25913169 218.90834681\n",
      " 261.90347211 203.27375579 261.90347211 203.27375579 254.0861766\n",
      " 203.27375579 218.90834681 203.27375579 269.72076761 269.72076761\n",
      " 269.72076761 269.72076761 343.98507495 242.36023333 242.36023333\n",
      " 320.53318842 320.53318842 250.17752884 203.27375579 203.27375579\n",
      " 218.90834681 218.90834681 265.81211986 265.81211986 203.27375579\n",
      " 218.90834681 265.81211986 195.45646028 203.27375579 187.63916477\n",
      " 218.90834681 187.63916477 261.90347211 218.90834681 254.0861766\n",
      " 203.27375579 218.90834681 328.35048393 242.36023333 320.53318842\n",
      " 261.90347211 261.90347211 222.81699456 304.8985974  269.72076761\n",
      " 203.27375579 203.27375579 308.80724516 273.62941537 242.36023333\n",
      " 222.81699456 222.81699456 203.27375579 195.45646028 195.45646028\n",
      " 261.90347211 367.43696148 308.80724516 203.27375579 340.07642719\n",
      " 261.90347211 261.90347211 308.80724516 340.07642719 340.07642719\n",
      " 308.80724516 242.36023333 340.07642719 340.07642719 367.43696148\n",
      " 367.43696148 187.63916477 187.63916477 187.63916477 187.63916477\n",
      " 187.63916477 187.63916477 187.63916477 172.00457375 269.72076761\n",
      " 222.81699456 187.63916477 261.90347211 195.45646028 343.98507495\n",
      " 281.44671088 273.62941537 273.62941537 273.62941537 230.63429007\n",
      " 257.99482435 312.71589291 265.81211986 242.36023333 386.98020025\n",
      " 203.27375579 203.27375579 195.45646028 203.27375579 203.27375579\n",
      " 222.81699456 222.81699456 222.81699456 265.81211986 265.81211986\n",
      " 203.27375579 261.90347211 222.81699456 195.45646028 261.90347211\n",
      " 195.45646028 195.45646028 347.8937227  281.44671088 347.8937227\n",
      " 183.73051702 222.81699456 195.45646028 222.81699456 203.27375579\n",
      " 265.81211986 265.81211986 222.81699456 242.36023333 242.36023333\n",
      " 250.17752884]\n"
     ]
    }
   ],
   "source": [
    "# model evalutation.\n",
    "from sklearn.metrics import r2_score\n",
    "\n",
    "test_x = np.asanyarray(test[['ENGINESIZE']])\n",
    "test_y = np.asanyarray(test[['CO2EMISSIONS']])\n",
    "\n",
    "\n",
    "predict_y = regr.predict(test_x)\n",
    "\n",
    "print(\"Actual values : \\n\", test_y.flatten())\n",
    "\n",
    "print()\n",
    "\n",
    "print(\"Model predictions: \\n\", predict_y.flatten())"
   ]
  },
  {
   "cell_type": "code",
   "execution_count": 21,
   "id": "63a17acc",
   "metadata": {},
   "outputs": [
    {
     "name": "stdout",
     "output_type": "stream",
     "text": [
      "r2 score : 0.75\n"
     ]
    }
   ],
   "source": [
    "# model metrics.\n",
    "\n",
    "# R2 score.\n",
    "\n",
    "print(\"r2 score : %.2f\" % r2_score(test_y, predict_y))"
   ]
  },
  {
   "cell_type": "code",
   "execution_count": 22,
   "id": "8aedd1c3",
   "metadata": {},
   "outputs": [
    {
     "name": "stdout",
     "output_type": "stream",
     "text": [
      "Mean Absolute Error: 24.68\n"
     ]
    }
   ],
   "source": [
    "# Mean Absolute Error : \n",
    "print(\"Mean Absolute Error: %.2f\" % np.mean(np.absolute(test_y - predict_y)))"
   ]
  },
  {
   "cell_type": "code",
   "execution_count": 23,
   "id": "261bc8ee",
   "metadata": {},
   "outputs": [
    {
     "name": "stdout",
     "output_type": "stream",
     "text": [
      "Mean Squared Error 1018.70\n"
     ]
    }
   ],
   "source": [
    "# Mean Squared Error or Residual sum of squares.\n",
    "print(\"Mean Squared Error %.2f\" % np.mean(np.absolute((test_y - predict_y) ** 2)))"
   ]
  },
  {
   "cell_type": "code",
   "execution_count": null,
   "id": "c90a30c0",
   "metadata": {},
   "outputs": [],
   "source": []
  }
 ],
 "metadata": {
  "kernelspec": {
   "display_name": "Python 3 (ipykernel)",
   "language": "python",
   "name": "python3"
  },
  "language_info": {
   "codemirror_mode": {
    "name": "ipython",
    "version": 3
   },
   "file_extension": ".py",
   "mimetype": "text/x-python",
   "name": "python",
   "nbconvert_exporter": "python",
   "pygments_lexer": "ipython3",
   "version": "3.8.10"
  }
 },
 "nbformat": 4,
 "nbformat_minor": 5
}
